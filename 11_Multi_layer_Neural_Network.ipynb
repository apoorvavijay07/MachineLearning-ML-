{
  "nbformat": 4,
  "nbformat_minor": 0,
  "metadata": {
    "colab": {
      "provenance": [],
      "authorship_tag": "ABX9TyNizCLaSX+MNvMg8z2u8N8E"
    },
    "kernelspec": {
      "name": "python3",
      "display_name": "Python 3"
    },
    "language_info": {
      "name": "python"
    }
  },
  "cells": [
    {
      "cell_type": "code",
      "execution_count": null,
      "metadata": {
        "colab": {
          "base_uri": "https://localhost:8080/"
        },
        "id": "Rg6Cb3j2S9Qw",
        "outputId": "72fad4ad-67b5-4725-b8f1-33816ed1762e"
      },
      "outputs": [
        {
          "output_type": "stream",
          "name": "stdout",
          "text": [
            "[-1  2] 24\n",
            "[2 2] 72\n",
            "[3 3] 108\n"
          ]
        }
      ],
      "source": [
        "import numpy as np\n",
        "\n",
        "\n",
        "def relu(n):\n",
        "    if n<0:\n",
        "        return 0\n",
        "    else:\n",
        "        return n\n",
        "\n",
        "\n",
        "inp=np.array([[-1,2],[2,2],[3,3]])\n",
        "weights=[np.array([3,3]),np.array([1,5]),np.array([3,3]),np.array([1,5]),np.array([2,-1])]\n",
        "for x in inp :\n",
        "    node0=relu((x*weights[0]).sum())\n",
        "    node1=relu((x*weights[1]).sum())\n",
        "    node2=relu(([node0,node1]*weights[2]).sum())\n",
        "    node3=relu(([node0,node1]*weights[3]).sum())\n",
        "    op=relu(([node2,node3]*weights[4]).sum())\n",
        "    print(x,op)"
      ]
    },
    {
      "cell_type": "code",
      "source": [
        "(36*2)+(48*(-1))"
      ],
      "metadata": {
        "colab": {
          "base_uri": "https://localhost:8080/"
        },
        "id": "6Er8R8OyTrrk",
        "outputId": "c02aeb38-6940-4f8a-e3e5-752bf44f8769"
      },
      "execution_count": null,
      "outputs": [
        {
          "output_type": "execute_result",
          "data": {
            "text/plain": [
              "24"
            ]
          },
          "metadata": {},
          "execution_count": 1
        }
      ]
    }
  ]
}